{
 "cells": [
  {
   "cell_type": "code",
   "execution_count": 2,
   "id": "a89799c9",
   "metadata": {},
   "outputs": [],
   "source": [
    "using CUDA\n",
    "using FileIO\n",
    "using NoteSequences\n",
    "using MusicTransformer"
   ]
  },
  {
   "cell_type": "code",
   "execution_count": 3,
   "id": "f1243271",
   "metadata": {},
   "outputs": [
    {
     "data": {
      "text/plain": [
       "MelodyConditionedMusicTransformer(encoder_layers=16, decoder_layers=16, head=8, head_size=64, pwffn_size=2048, size=512)"
      ]
     },
     "execution_count": 3,
     "metadata": {},
     "output_type": "execute_result"
    }
   ],
   "source": [
    "model = pretrained\"melody_conditioned_model_16\""
   ]
  },
  {
   "cell_type": "markdown",
   "id": "e86453da",
   "metadata": {},
   "source": [
    "## Defining some melody sequences\n",
    "(Thanks to Magenta for these sequences)"
   ]
  },
  {
   "cell_type": "code",
   "execution_count": 4,
   "id": "9a6916a7",
   "metadata": {
    "collapsed": true
   },
   "outputs": [
    {
     "data": {
      "text/plain": [
       "2-element Vector{Int64}:\n",
       " -2\n",
       " -2"
      ]
     },
     "execution_count": 4,
     "metadata": {},
     "output_type": "execute_result"
    }
   ],
   "source": [
    "using NoteSequences.MelodyRepr: MELODY_NO_EVENT\n",
    "\n",
    "# Maps name to melody sequence\n",
    "melodies = Dict(\n",
    "    \"London Bridge is Falling Down\" => [\n",
    "        67, 69, 67, 65, 64, 65, 67, MELODY_NO_EVENT,\n",
    "        62, 64, 65, MELODY_NO_EVENT,\n",
    "        64, 65, 67, MELODY_NO_EVENT,\n",
    "        67, 69, 67, 65, 64, 65, 67, 60,\n",
    "        62, MELODY_NO_EVENT, 67, MELODY_NO_EVENT,\n",
    "        64, 60, MELODY_NO_EVENT, MELODY_NO_EVENT\n",
    "    ],\n",
    "    \"Mary Had a Little Lamb\" => [\n",
    "        64, 62, 60, 62, 64, 64, 64, MELODY_NO_EVENT,\n",
    "        62, 62, 62, MELODY_NO_EVENT,\n",
    "        64, 67, 67, MELODY_NO_EVENT,\n",
    "        64, 62, 60, 62, 64, 64, 64, 64,\n",
    "        62, 62, 64, 62, 60, MELODY_NO_EVENT,\n",
    "        MELODY_NO_EVENT, MELODY_NO_EVENT\n",
    "    ],\n",
    "    \"Row Row Row Your Boat\" => [\n",
    "        60, MELODY_NO_EVENT, MELODY_NO_EVENT,\n",
    "        60, MELODY_NO_EVENT, MELODY_NO_EVENT,\n",
    "        60, MELODY_NO_EVENT, 62,\n",
    "        64, MELODY_NO_EVENT, MELODY_NO_EVENT,\n",
    "        64, MELODY_NO_EVENT, 62,\n",
    "        64, MELODY_NO_EVENT, 65,\n",
    "        67, MELODY_NO_EVENT, MELODY_NO_EVENT,\n",
    "        MELODY_NO_EVENT, MELODY_NO_EVENT, MELODY_NO_EVENT,\n",
    "        72, 72, 72, 67, 67, 67, 64, 64, 64, 60, 60, 60,\n",
    "        67, MELODY_NO_EVENT, 65,\n",
    "        64, MELODY_NO_EVENT, 62,\n",
    "        60, MELODY_NO_EVENT, MELODY_NO_EVENT,\n",
    "        MELODY_NO_EVENT, MELODY_NO_EVENT, MELODY_NO_EVENT\n",
    "    ],\n",
    "    \"Twinkle Twinkle Little Star\" => [\n",
    "        60, 60, 67, 67, 69, 69, 67, MELODY_NO_EVENT,\n",
    "        65, 65, 64, 64, 62, 62, 60, MELODY_NO_EVENT,\n",
    "        67, 67, 65, 65, 64, 64, 62, MELODY_NO_EVENT,\n",
    "        67, 67, 65, 65, 64, 64, 62, MELODY_NO_EVENT,\n",
    "        60, 60, 67, 67, 69, 69, 67, MELODY_NO_EVENT,\n",
    "        65, 65, 64, 64, 62, 62, 60, MELODY_NO_EVENT\n",
    "    ]\n",
    ")\n",
    "\n",
    "const event_padding = fill(MELODY_NO_EVENT, 2);"
   ]
  },
  {
   "cell_type": "code",
   "execution_count": 5,
   "id": "3cb138cc",
   "metadata": {},
   "outputs": [
    {
     "data": {
      "text/plain": [
       "encode_melody"
      ]
     },
     "execution_count": 5,
     "metadata": {},
     "output_type": "execute_result"
    }
   ],
   "source": [
    "\"\"\"\n",
    "    encode_melody(melody_name::String, encoder::TextMelodyEncoder=TextMelodyEncoder(21, 108, 10))\n",
    "\n",
    "Encode the melody sequence to one-hot indices. Uses the melody sequence from the `melodies`.\n",
    "\"\"\"\n",
    "function encode_melody(melody_name::String, encoder::TextMelodyEncoder=TextMelodyEncoder(21, 108, 10))\n",
    "    melody = melodies[melody_name]\n",
    "    melody_padded = Int[]\n",
    "    for e in melody\n",
    "        for event in vcat(e, event_padding)\n",
    "            push!(melody_padded, ifelse(event != MELODY_NO_EVENT, event + 12, event))\n",
    "        end\n",
    "    end\n",
    "    \n",
    "    [encode_event(event, encoder) for event in melody_padded]\n",
    "end"
   ]
  },
  {
   "cell_type": "code",
   "execution_count": 6,
   "id": "c3fff437",
   "metadata": {},
   "outputs": [],
   "source": [
    "# Encode the melody to one hot indices\n",
    "inputs = encode_melody(\"London Bridge is Falling Down\");"
   ]
  },
  {
   "cell_type": "code",
   "execution_count": 7,
   "id": "6458afb5",
   "metadata": {},
   "outputs": [
    {
     "name": "stderr",
     "output_type": "stream",
     "text": [
      "┌ Info: Generating...\n",
      "└ @ MusicTransformer /home/vasanth/.julia/dev/MusicTransformer/src/generate.jl:139\n"
     ]
    },
    {
     "data": {
      "text/plain": [
       "MIDIFile (format=1, tpq=220) with 2 tracks"
      ]
     },
     "execution_count": 7,
     "metadata": {},
     "output_type": "execute_result"
    }
   ],
   "source": [
    "# Decode lengths from 400-600 would take 2-4 minutes on a modern CPU.\n",
    "# Leave decode length to the default if GPU is enabled.\n",
    "if CUDA.has_cuda()\n",
    "    decode_len = 4096 - length(inputs)\n",
    "else\n",
    "    decode_len = 600\n",
    "end\n",
    "midi = generate_accompaniment(model, inputs, decode_len=decode_len)"
   ]
  },
  {
   "cell_type": "code",
   "execution_count": 8,
   "id": "0116e3ff",
   "metadata": {},
   "outputs": [
    {
     "name": "stdout",
     "output_type": "stream",
     "text": [
      "MuseScore3 3.6.2\n"
     ]
    },
    {
     "name": "stderr",
     "output_type": "stream",
     "text": [
      "convert </tmp/jl_RWegBG.mid>...\n",
      "\tto </tmp/jl_RWegBG.mp3>\n",
      "... success!\n",
      "┌ Info: Exported to /tmp/jl_RWegBG.mp3\n",
      "└ @ NoteSequences /home/vasanth/.julia/dev/NoteSequences/src/utils.jl:45\n"
     ]
    }
   ],
   "source": [
    "# Exports the midifile to mp3\n",
    "musescore_export(midi)"
   ]
  },
  {
   "cell_type": "code",
   "execution_count": 9,
   "id": "e8d675f4",
   "metadata": {},
   "outputs": [
    {
     "data": {
      "text/plain": [
       "MIDIFile (format=1, tpq=220) with 2 tracks"
      ]
     },
     "execution_count": 9,
     "metadata": {},
     "output_type": "execute_result"
    }
   ],
   "source": [
    "save(\"accompaniment.mid\", midi)"
   ]
  },
  {
   "cell_type": "markdown",
   "id": "7b7c7d53",
   "metadata": {},
   "source": [
    "## Using a melody from a midi file\n",
    "We can also convert midi files to melody sequences for generating an accompaniment. The midi files should have only the melody and should not have the accompaniment along with it."
   ]
  },
  {
   "cell_type": "code",
   "execution_count": 10,
   "id": "6dfbbb70",
   "metadata": {},
   "outputs": [],
   "source": [
    "midifile = load(\"yankeedoodle.mid\")\n",
    "melody_ns = NoteSequence(midifile)\n",
    "\n",
    "for i in 1:length(melody_ns.notes)-1\n",
    "    melody_ns.notes[i].end_time = melody_ns.notes[i + 1].start_time\n",
    "end\n",
    "\n",
    "melodyencoder = TextMelodyEncoder(21, 108, 10)\n",
    "inputs = encode_notesequence(melody_ns, melodyencoder);"
   ]
  },
  {
   "cell_type": "code",
   "execution_count": 11,
   "id": "75c718a7",
   "metadata": {},
   "outputs": [
    {
     "name": "stderr",
     "output_type": "stream",
     "text": [
      "┌ Info: Generating...\n",
      "└ @ MusicTransformer /home/vasanth/.julia/dev/MusicTransformer/src/generate.jl:139\n"
     ]
    },
    {
     "data": {
      "text/plain": [
       "MIDIFile (format=1, tpq=220) with 2 tracks"
      ]
     },
     "execution_count": 11,
     "metadata": {},
     "output_type": "execute_result"
    }
   ],
   "source": [
    "# Decode lengths from 400-600 would take 2-4 minutes on a modern CPU.\n",
    "# Leave decode length to the default if GPU is enabled.\n",
    "if CUDA.has_cuda()\n",
    "    decode_len = 4096 - length(inputs)\n",
    "else\n",
    "    decode_len = 600\n",
    "end\n",
    "midi = generate_accompaniment(model, inputs, decode_len=decode_len)"
   ]
  },
  {
   "cell_type": "code",
   "execution_count": 12,
   "id": "b08bfca6",
   "metadata": {},
   "outputs": [
    {
     "name": "stderr",
     "output_type": "stream",
     "text": [
      "convert </tmp/jl_NjiqOs.mid>...\n",
      "\tto </tmp/jl_NjiqOs.mp3>\n",
      "... success!\n",
      "┌ Info: Exported to /tmp/jl_NjiqOs.mp3\n",
      "└ @ NoteSequences /home/vasanth/.julia/dev/NoteSequences/src/utils.jl:45\n"
     ]
    }
   ],
   "source": [
    "musescore_export(midi)"
   ]
  },
  {
   "cell_type": "code",
   "execution_count": 13,
   "id": "92cce5d1",
   "metadata": {},
   "outputs": [
    {
     "data": {
      "text/plain": [
       "MIDIFile (format=1, tpq=220) with 2 tracks"
      ]
     },
     "execution_count": 13,
     "metadata": {},
     "output_type": "execute_result"
    }
   ],
   "source": [
    "save(\"accompaniment2.mid\", midi)"
   ]
  }
 ],
 "metadata": {
  "kernelspec": {
   "display_name": "Julia 1.5.3",
   "language": "julia",
   "name": "julia-1.5"
  },
  "language_info": {
   "file_extension": ".jl",
   "mimetype": "application/julia",
   "name": "julia",
   "version": "1.6.0"
  }
 },
 "nbformat": 4,
 "nbformat_minor": 5
}
